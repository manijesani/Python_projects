{
 "cells": [
  {
   "cell_type": "markdown",
   "metadata": {},
   "source": [
    "<h1>Menu</h1>\n",
    "<ol>\n",
    "<li>add Students(student id(system generated), student name, student contact number,date of registration(present date and time)\n",
    ")</li>\n",
    "<li>add Faculty</li>\n",
    "<li>create batches(batch name, batch time,add student(manuly or using existing excel or csv file),topic, start date, end date, faculty name,download record)</li>\n",
    "<li>mark attendence(select batch,list of students ,P/A Write into file)</li>\n",
    "<li>record system(list of all batches --> details of conducted batches)</li>\n",
    "<li>exit</li>\n",
    "<li>database --> csv/pkl</li>\n",
    "</ol>"
   ]
  },
  {
   "cell_type": "code",
   "execution_count": 58,
   "metadata": {},
   "outputs": [],
   "source": [
    "#temp Static Value \n",
    "student_list = []"
   ]
  },
  {
   "cell_type": "code",
   "execution_count": 1,
   "metadata": {},
   "outputs": [],
   "source": [
    "#ALL import Statements\n",
    "import pandas as pd\n",
    "import pickle as pk\n",
    "from time import sleep\n",
    "from getpass import getpass as gpass\n",
    "import os\n",
    "from pynput import keyboard\n",
    "from datetime import datetime as dt"
   ]
  },
  {
   "cell_type": "code",
   "execution_count": null,
   "metadata": {},
   "outputs": [],
   "source": [
    "#KeyBoard Combinations\n",
    "combinations = [keyboard.Key.ctrl, keyboard.KeyCode.from_char(\"q\")] #for main Menu"
   ]
  },
  {
   "cell_type": "code",
   "execution_count": 55,
   "metadata": {},
   "outputs": [
    {
     "data": {
      "text/plain": [
       "(2019, 8, 1)"
      ]
     },
     "execution_count": 55,
     "metadata": {},
     "output_type": "execute_result"
    }
   ],
   "source": [
    "#Date Of Reistration\n",
    "date = dt.timetuple(dt.today())[0:3]\n",
    "date"
   ]
  },
  {
   "cell_type": "code",
   "execution_count": null,
   "metadata": {},
   "outputs": [],
   "source": [
    "def menu():\n",
    "    print(\"Select one of these -->\\n1.Add Student\\n2.Create Batches\\n3.Mark Attendence\\n4.Records\\n0.Exit\")\n",
    "    no = int(input(\"--> \").strip())\n",
    "    if no == 1:\n",
    "        pass\n",
    "    elif no == 2:\n",
    "        pass\n",
    "    elif no == 3:\n",
    "        pass\n",
    "    elif no == 4:\n",
    "        pass\n",
    "    elif no == 5:\n",
    "        pass\n",
    "    elif no == 0:\n",
    "        pass"
   ]
  },
  {
   "cell_type": "code",
   "execution_count": null,
   "metadata": {},
   "outputs": [],
   "source": [
    "student id(system generated), student name, student contact number,date of registration(present date and time)"
   ]
  },
  {
   "cell_type": "code",
   "execution_count": 56,
   "metadata": {},
   "outputs": [],
   "source": [
    "def add_student():\n",
    "    print(\"Enter Students Details one by one , Enter 0 for exit in name\")\n",
    "    while True:\n",
    "        name = input(\"Enter Name \").strip().lower()\n",
    "        if name != '0':\n",
    "            ph_no = input(f\"{name}'s Phone Number\").strip()\n",
    "            if len(ph_no)==10:\n",
    "                student_list.append(name)\n",
    "                phone_list.append(int(ph_no))\n",
    "                date_list.append(date)\n",
    "            else:\n",
    "                print(\"!!!Phone Number is incorrect!!!\")\n",
    "                continue\n",
    "        else:\n",
    "            break\n",
    "    else:\n",
    "        pass"
   ]
  },
  {
   "cell_type": "code",
   "execution_count": 64,
   "metadata": {},
   "outputs": [
    {
     "name": "stdout",
     "output_type": "stream",
     "text": [
      "Enter Students Details one by one , Enter 0 for exit in name\n",
      "Enter Name manish\n",
      "manish's Phone Number123\n",
      "!!!Phone Number is incorrect!!!\n",
      "Enter Name manish\n",
      "manish's Phone Number1234567890\n",
      "Enter Name suraj\n",
      "suraj's Phone Number7894561230\n",
      "Enter Name 0\n"
     ]
    }
   ],
   "source": [
    "student_list = []\n",
    "date_list = []\n",
    "phone_list = []\n",
    "add_student()"
   ]
  },
  {
   "cell_type": "code",
   "execution_count": 68,
   "metadata": {},
   "outputs": [
    {
     "data": {
      "text/plain": [
       "[(2019, 8, 1), (2019, 8, 1)]"
      ]
     },
     "execution_count": 68,
     "metadata": {},
     "output_type": "execute_result"
    }
   ],
   "source": [
    "date_list"
   ]
  },
  {
   "cell_type": "code",
   "execution_count": null,
   "metadata": {},
   "outputs": [],
   "source": [
    "def add_faculty():\n",
    "    pass"
   ]
  },
  {
   "cell_type": "code",
   "execution_count": null,
   "metadata": {},
   "outputs": [],
   "source": [
    "def create_batch():\n",
    "    pass"
   ]
  },
  {
   "cell_type": "code",
   "execution_count": null,
   "metadata": {},
   "outputs": [],
   "source": [
    "def attendence():\n",
    "    pass"
   ]
  },
  {
   "cell_type": "code",
   "execution_count": null,
   "metadata": {},
   "outputs": [],
   "source": [
    "def record():"
   ]
  },
  {
   "cell_type": "code",
   "execution_count": 12,
   "metadata": {},
   "outputs": [
    {
     "name": "stdout",
     "output_type": "stream",
     "text": [
      "hello\n"
     ]
    }
   ],
   "source": [
    "#keyboard.KeyCode.from_char(\"Q\")\n",
    "#print(\"hello\")"
   ]
  },
  {
   "cell_type": "code",
   "execution_count": null,
   "metadata": {},
   "outputs": [],
   "source": []
  }
 ],
 "metadata": {
  "kernelspec": {
   "display_name": "Python 3",
   "language": "python",
   "name": "python3"
  },
  "language_info": {
   "codemirror_mode": {
    "name": "ipython",
    "version": 3
   },
   "file_extension": ".py",
   "mimetype": "text/x-python",
   "name": "python",
   "nbconvert_exporter": "python",
   "pygments_lexer": "ipython3",
   "version": "3.7.3"
  }
 },
 "nbformat": 4,
 "nbformat_minor": 2
}
